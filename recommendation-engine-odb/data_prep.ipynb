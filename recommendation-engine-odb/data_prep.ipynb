{
 "cells": [
  {
   "cell_type": "code",
   "execution_count": 30,
   "metadata": {},
   "outputs": [
    {
     "name": "stdout",
     "output_type": "stream",
     "text": [
      "Stored 'n_user' (int)\n",
      "Stored 'n_item' (int)\n",
      "Stored 'sites_id' (ndarray)\n"
     ]
    },
    {
     "data": {
      "text/plain": [
       "'s3://sagemaker-us-east-1-350614259618/data/train.npy'"
      ]
     },
     "execution_count": 30,
     "metadata": {},
     "output_type": "execute_result"
    }
   ],
   "source": [
    "import os\n",
    "import boto3\n",
    "import re\n",
    "import sagemaker\n",
    "import numpy as np\n",
    "import pandas as pd\n",
    "import sklearn.model_selection\n",
    "from sklearn.model_selection import train_test_split\n",
    "\n",
    "# Import, subject to change once imported to aws\n",
    "df = pd.read_csv(\"user_data.csv\")\n",
    "\n",
    "# Data Cleaning here extreme for now\n",
    "df = df.drop(columns=['visitId', 'visitStartTime', 'visitNumber', 'date', 'totals', 'trafficSource', 'device', 'customDimensions'\n",
    "                , 'socialEngagementType', 'totals', 'trafficSource', 'geoNetwork', 'Unnamed: 0'])\n",
    "sites_id = pd.unique(df['site'])\n",
    "for x in range(len(sites_id)):\n",
    "    df['site'] = df['site'].replace([sites_id[x]], x)\n",
    "\n",
    "times = []\n",
    "for x in df.index:\n",
    "    temp = str(df.time[x])\n",
    "    temp = temp.split(':')\n",
    "    secs = float(temp[1])\n",
    "    secs += float(temp[2])\n",
    "    times.append(secs)\n",
    "times = pd.DataFrame(times)\n",
    "df = df.assign(time=times)\n",
    "# Splits data into train and test frames\n",
    "train, test = train_test_split(df, test_size=.3)\n",
    "\n",
    "# Finds unique users and pages\n",
    "def get_unique_count(df):\n",
    "    return len(pd.unique(df['fullVisitorId'])), len(pd.unique(df['site']))\n",
    "\n",
    "# Stores number of users/pages for later usage\n",
    "n_user, n_item = get_unique_count(train)\n",
    "%store n_user\n",
    "%store n_item\n",
    "%store sites_id\n",
    "\n",
    "# Making bucket for transport of data\n",
    "session = boto3.session.Session()\n",
    "region = session.region_name\n",
    "sage_session = sagemaker.Session()\n",
    "bucket = sage_session.default_bucket()\n",
    "\n",
    "train_path = os.path.join(\"Recommendation Engine/data/\", \"train.npy\")\n",
    "test_path = os.path.join(\"Recommendation Engine/data/\", \"test.npy\")\n",
    "\n",
    "# Creates local dataset to represent test and train from code.\n",
    "np.save('train', train.values)\n",
    "np.save('test', test.values)\n",
    "\n",
    "# Upload data to model.\n",
    "sage_session.upload_data('test.npy', bucket=bucket, key_prefix='data')\n",
    "sage_session.upload_data('train.npy', bucket=bucket, key_prefix='data')\n"
   ]
  },
  {
   "cell_type": "code",
   "execution_count": 28,
   "metadata": {},
   "outputs": [
    {
     "name": "stdout",
     "output_type": "stream",
     "text": [
      "157\n"
     ]
    }
   ],
   "source": [
    "print(len(sites_id))"
   ]
  },
  {
   "cell_type": "code",
   "execution_count": null,
   "metadata": {},
   "outputs": [],
   "source": []
  }
 ],
 "metadata": {
  "kernelspec": {
   "display_name": "Python 3 (Data Science)",
   "language": "python",
   "name": "python3__SAGEMAKER_INTERNAL__arn:aws:sagemaker:us-east-1:081325390199:image/datascience-1.0"
  },
  "language_info": {
   "codemirror_mode": {
    "name": "ipython",
    "version": 3
   },
   "file_extension": ".py",
   "mimetype": "text/x-python",
   "name": "python",
   "nbconvert_exporter": "python",
   "pygments_lexer": "ipython3",
   "version": "3.7.10"
  }
 },
 "nbformat": 4,
 "nbformat_minor": 4
}
