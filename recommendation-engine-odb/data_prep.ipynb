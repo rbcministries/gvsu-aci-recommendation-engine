{
 "cells": [
  {
   "cell_type": "code",
   "execution_count": null,
   "metadata": {},
   "outputs": [],
   "source": [
    "import os\n",
    "import boto3\n",
    "import sagemaker\n",
    "import numpy as np\n",
    "import pandas as pd\n",
    "import sklearn.model_selection\n",
    "from sklearn.model_selection import train_test_split\n",
    "\n",
    "# Import (subject to change once imported to aws\n",
    "df = pd.read_csv(\"somefilepathhere\")\n",
    "\n",
    "# Data cleaning most likely needed here but format unknow so blank for now\n",
    "\n",
    "# Splits data into train and test frames\n",
    "train, test = train_test_split(df, test_size=.3)\n",
    "\n",
    "# Making bucket for transport of data\n",
    "session = boto3.session.Session()\n",
    "region = session.region_name\n",
    "sage_session = sagemaker.Session()\n",
    "bucket = sage_session.default_bucket()\n",
    "\n",
    "train_path = os.path.join(\"somedestination\", \"train.npy\")\n",
    "test_path = os.path.join(\"somedestination\", \"test.npy\")\n",
    "\n",
    "# Creates local dataset to represent test and train from code.\n",
    "!mkdir {\"somedestination\"}\n",
    "np.save(train_path, train.values)\n",
    "np.save(test_path, test.values)\n",
    "\n",
    "# Upload data to model. Method not found locally so possibly outdated\n",
    "sagemaker.session.upload_data(train_path, key_prefid='data')\n",
    "sagemaker.session.upload_data(test_path, key_prefid='data')"
   ]
  }
 ],
 "metadata": {
  "instance_type": "ml.t3.medium",
  "kernelspec": {
   "display_name": "Python 3 (Data Science)",
   "language": "python",
   "name": "python3__SAGEMAKER_INTERNAL__arn:aws:sagemaker:us-east-1:081325390199:image/datascience-1.0"
  },
  "language_info": {
   "codemirror_mode": {
    "name": "ipython",
    "version": 3
   },
   "file_extension": ".py",
   "mimetype": "text/x-python",
   "name": "python",
   "nbconvert_exporter": "python",
   "pygments_lexer": "ipython3",
   "version": "3.7.10"
  }
 },
 "nbformat": 4,
 "nbformat_minor": 4
}
