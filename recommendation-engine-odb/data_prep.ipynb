{
 "cells": [
  {
   "cell_type": "code",
   "execution_count": 6,
   "metadata": {},
   "outputs": [
    {
     "name": "stdout",
     "output_type": "stream",
     "text": [
      "Stored 'n_user' (int)\n",
      "Stored 'n_item' (int)\n"
     ]
    },
    {
     "data": {
      "text/plain": [
       "'s3://sagemaker-us-east-1-350614259618/data/train.npy'"
      ]
     },
     "execution_count": 6,
     "metadata": {},
     "output_type": "execute_result"
    }
   ],
   "source": [
    "import os\n",
    "import boto3\n",
    "import re\n",
    "import sagemaker\n",
    "import numpy as np\n",
    "import pandas as pd\n",
    "import sklearn.model_selection\n",
    "from sklearn.model_selection import train_test_split\n",
    "\n",
    "# Import, subject to change once imported to aws\n",
    "df = pd.read_csv(\"user_data.csv\")\n",
    "\n",
    "# Data cleaning most likely needed here but format unknow so blank for now\n",
    "\n",
    "# Splits data into train and test frames\n",
    "train, test = train_test_split(df, test_size=.3)\n",
    "\n",
    "# Finds unique users and pages\n",
    "def get_unique_count(df):\n",
    "    unique = []\n",
    "    for x in df.index:\n",
    "        unique.append(re.search(\"pagePath(.*)\", df.hits[x]))\n",
    "        unique[len(unique)-1] = re.search(\"/google(.*)\", str(unique[len(unique)-1]))\n",
    "    unique = list(set(unique))\n",
    "    unique_pages = len(unique)\n",
    "    return len(df['fullVisitorId'].value_counts()), unique_pages\n",
    "\n",
    "# Stores number of users/pages for later usage\n",
    "n_user, n_item = get_unique_count(train)\n",
    "%store n_user\n",
    "%store n_item\n",
    "\n",
    "# Making bucket for transport of data\n",
    "session = boto3.session.Session()\n",
    "region = session.region_name\n",
    "sage_session = sagemaker.Session()\n",
    "bucket = sage_session.default_bucket()\n",
    "\n",
    "train_path = os.path.join(\"Recommendation Engine/data/\", \"train.npy\")\n",
    "test_path = os.path.join(\"Recommendation Engine/data/\", \"test.npy\")\n",
    "\n",
    "# Creates local dataset to represent test and train from code.\n",
    "np.save('train', train.values)\n",
    "np.save('test', test.values)\n",
    "\n",
    "# Upload data to model.\n",
    "sage_session.upload_data('test.npy', bucket=bucket, key_prefix='data')\n",
    "sage_session.upload_data('train.npy', bucket=bucket, key_prefix='data')\n"
   ]
  },
  {
   "cell_type": "code",
   "execution_count": null,
   "metadata": {},
   "outputs": [],
   "source": []
  }
 ],
 "metadata": {
  "kernelspec": {
   "display_name": "Python 3 (Data Science)",
   "language": "python",
   "name": "python3__SAGEMAKER_INTERNAL__arn:aws:sagemaker:us-east-1:081325390199:image/datascience-1.0"
  },
  "language_info": {
   "codemirror_mode": {
    "name": "ipython",
    "version": 3
   },
   "file_extension": ".py",
   "mimetype": "text/x-python",
   "name": "python",
   "nbconvert_exporter": "python",
   "pygments_lexer": "ipython3",
   "version": "3.7.10"
  }
 },
 "nbformat": 4,
 "nbformat_minor": 4
}
